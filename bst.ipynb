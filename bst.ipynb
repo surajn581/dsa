{
 "cells": [
  {
   "cell_type": "code",
   "execution_count": 1,
   "metadata": {},
   "outputs": [],
   "source": [
    "from tree_classes import Value, BinaryNode, Tree, NodeBase\n",
    "from tree_classes import RIGHT, LEFT"
   ]
  },
  {
   "cell_type": "code",
   "execution_count": 2,
   "metadata": {},
   "outputs": [],
   "source": [
    "class BinaryTree(Tree):\n",
    "    def __init__(self):\n",
    "        super().__init__()\n",
    "        self.size = 0\n",
    "\n",
    "    def insert(self, value):\n",
    "        if self.root is None:\n",
    "            self.root = BinaryNode(value, side = None, parent = None)\n",
    "            self.size += 1\n",
    "            return self.root\n",
    "        \n",
    "        node = BinaryNode(value = value)\n",
    "        node = self._insert(self.root, node)\n",
    "        self.size += 1\n",
    "        return node\n",
    "\n",
    "    def _insert(self, parent: BinaryNode, node: BinaryNode):\n",
    "        if node < parent:\n",
    "            if not parent.leftChild:\n",
    "                node.parent = parent\n",
    "                node.side = LEFT\n",
    "                parent.leftChild = node\n",
    "            else:\n",
    "                self._insert(parent.leftChild, node)\n",
    "        else:\n",
    "            if not parent.rightChild:\n",
    "                node.parent = parent\n",
    "                node.side = RIGHT\n",
    "                parent.rightChild = node\n",
    "            else:\n",
    "                self._insert(parent.rightChild, node)\n",
    "        return node\n",
    "    \n",
    "    def search(self, key):\n",
    "        return self._search(self.root, key)\n",
    "\n",
    "    def _search(self, node: BinaryNode, key):\n",
    "        if node.key == key:\n",
    "            return node\n",
    "        if node.isLeaf:\n",
    "            return\n",
    "        if key < node.key:\n",
    "            if not node.leftChild:\n",
    "                return\n",
    "            return self._search(node.leftChild, key)\n",
    "        if not node.rightChild:\n",
    "            return\n",
    "        return self._search(node.rightChild, key)\n",
    "    \n",
    "    def inOrderTraversal(self, node = None):\n",
    "        node = node or self.root\n",
    "        return self._inOrderTraversal(node)\n",
    "\n",
    "    def _inOrderTraversal(self, node: BinaryNode):\n",
    "        res = [node]\n",
    "        if node.isLeaf:\n",
    "            return res\n",
    "        if node.leftChild:\n",
    "            res = self._inOrderTraversal(node.leftChild) + res\n",
    "        if node.rightChild:\n",
    "            res = res + self._inOrderTraversal(node.rightChild)\n",
    "        return res\n",
    "    \n",
    "    def _transplant(self, deleteNode: BinaryNode, replaceNode):\n",
    "        if deleteNode.isRoot:\n",
    "            self.root = replaceNode\n",
    "        elif deleteNode.isLeft:\n",
    "            deleteNode.parent.leftChild = replaceNode\n",
    "        else:\n",
    "            deleteNode.parent.rightChild = replaceNode\n",
    "        if replaceNode:\n",
    "            replaceNode.parent = deleteNode.parent\n",
    "            replaceNode.side = deleteNode.side\n",
    "\n",
    "    def delete(self, key):\n",
    "        if not self.root:\n",
    "            return\n",
    "        deleteNode = self.search(key)\n",
    "        if not deleteNode:\n",
    "            return\n",
    "        if deleteNode.isLeaf:\n",
    "            self._transplant(deleteNode, None)\n",
    "            return\n",
    "        elif len(deleteNode.children) == 1:\n",
    "            self._transplant(deleteNode, deleteNode.children[0])\n",
    "            return\n",
    "        leftMostNode = self._inOrderTraversal(deleteNode.rightChild)[0]\n",
    "        if leftMostNode.parent != deleteNode:\n",
    "            self._transplant(leftMostNode, leftMostNode.rightChild)\n",
    "            leftMostNode.rightChild = deleteNode.rightChild\n",
    "            leftMostNode.rightChild.parent = leftMostNode\n",
    "        self._transplant(deleteNode, leftMostNode)\n",
    "        leftMostNode.leftChild = deleteNode.leftChild\n",
    "        leftMostNode.leftChild.parent = leftMostNode\n",
    "        leftMostNode.parent = deleteNode.parent\n",
    "        leftMostNode.side = deleteNode.side\n"
   ]
  },
  {
   "cell_type": "code",
   "execution_count": 3,
   "metadata": {},
   "outputs": [
    {
     "data": {
      "text/plain": [
       "\n",
       "[2:4]\n",
       " /¯ ¯\\\n",
       "[1:1][3:9]"
      ]
     },
     "execution_count": 3,
     "metadata": {},
     "output_type": "execute_result"
    }
   ],
   "source": [
    "t = BinaryTree()\n",
    "\n",
    "# for i in range(1, 7+1):\n",
    "#     t.insert(Value(i, i**2))\n",
    "\n",
    "# values = [4.5,8,6,5,7,2,3,1,4,11,9, 20, 21, 23, 24]\n",
    "# values = [Value(v,v**2) for v in values]\n",
    "\n",
    "# for value in values:\n",
    "#     t.insert(value)\n",
    "\n",
    "# values = [4.5,8,6,5,7,2,3,1,4,11,9, 20, 21, 23, 24]\n",
    "values = [2,1,3]\n",
    "values = [Value(v,v**2) for v in values]\n",
    "\n",
    "for value in values:\n",
    "    t.insert(value)\n",
    "\n",
    "# t.insert(4)\n",
    "# t.insert(5)\n",
    "# t.insert(2)\n",
    "# t.insert(3)\n",
    "# t.insert(1)\n",
    "# t.insert(4.5)\n",
    "# t.insert(6)\n",
    "# t.insert(7)\n",
    "# t.insert(8)\n",
    "# t.insert(11)\n",
    "# t.insert(9)\n",
    "t"
   ]
  },
  {
   "cell_type": "code",
   "execution_count": 4,
   "metadata": {},
   "outputs": [
    {
     "data": {
      "text/plain": [
       "\n",
       "[2:4]\n",
       " /¯\n",
       "[1:1]"
      ]
     },
     "execution_count": 4,
     "metadata": {},
     "output_type": "execute_result"
    }
   ],
   "source": [
    "t.delete(3)\n",
    "t"
   ]
  },
  {
   "cell_type": "code",
   "execution_count": 5,
   "metadata": {},
   "outputs": [],
   "source": [
    "#checks to validate if all pointers are set correctly after rotation.\n",
    "parentCheck = lambda node: all([n.parent == node for n in node.children])\n",
    "sideCheck = lambda node: all( [ node.leftChild.side == LEFT if node.leftChild else True, node.rightChild.side == RIGHT if node.rightChild else True ] )\n",
    "rootCheck = lambda tree: ( tree.root.parent is None ) and ( tree.root.side is None )\n",
    "\n",
    "#check if parent and child both have red colors\n",
    "consecutiveRedCheck = lambda node: all( [ node.color != child.color for child in node.children if node.color == RED ] )\n",
    "\n",
    "#a BFS traversal while performing all the checks\n",
    "queue = [t.root]\n",
    "visited = []\n",
    "assert rootCheck(t), \"root: {} isn't valid\".format(t.root)\n",
    "while queue:\n",
    "    node = queue.pop(0)\n",
    "    if not parentCheck(node):\n",
    "        raise Exception('children {children} of node: {node} do not point to it'.format(children = node.children, node = node))\n",
    "    if not sideCheck(node):\n",
    "        raise Exception('children {children} of node: {node} do not have the correct side attribute'.format(children = node.children, node = node))\n",
    "    queue.extend( node.children )\n",
    "    visited.append(node)"
   ]
  },
  {
   "cell_type": "code",
   "execution_count": null,
   "metadata": {},
   "outputs": [],
   "source": []
  }
 ],
 "metadata": {
  "kernelspec": {
   "display_name": "py3",
   "language": "python",
   "name": "python3"
  },
  "language_info": {
   "codemirror_mode": {
    "name": "ipython",
    "version": 3
   },
   "file_extension": ".py",
   "mimetype": "text/x-python",
   "name": "python",
   "nbconvert_exporter": "python",
   "pygments_lexer": "ipython3",
   "version": "3.8.12"
  }
 },
 "nbformat": 4,
 "nbformat_minor": 2
}
