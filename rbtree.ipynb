{
 "cells": [
  {
   "cell_type": "code",
   "execution_count": 15,
   "metadata": {},
   "outputs": [],
   "source": [
    "from tree_utils import printTree as ptree"
   ]
  },
  {
   "cell_type": "code",
   "execution_count": 16,
   "metadata": {},
   "outputs": [],
   "source": [
    "RED = 'red'\n",
    "BLACK = 'black'\n",
    "RIGHT = 'right'\n",
    "LEFT = 'left'\n",
    "NULL = 'NULL'"
   ]
  },
  {
   "cell_type": "code",
   "execution_count": 17,
   "metadata": {},
   "outputs": [],
   "source": [
    "class NodeBase:\n",
    "\n",
    "    def __init__(self, value, side = None, parent = None, leftChild = None, rightChild = None):\n",
    "        if (parent and not side):\n",
    "            raise Exception('side not assigned. node must have a side assigned when it is not a root node')\n",
    "        self.value = value\n",
    "        self.side = side\n",
    "        self.parent = parent\n",
    "        self.leftChild = leftChild\n",
    "        self.rightChild = rightChild\n",
    "\n",
    "    def __gt__(self, other):\n",
    "        return self.value > other.value\n",
    "    \n",
    "    def __lt__(self, other):\n",
    "        return self.value < other.value\n",
    "    \n",
    "    def __eq__(self, other):\n",
    "        return self.value == other.value\n",
    "    \n",
    "    def __ge__(self, other):\n",
    "        return self.value >= other.value\n",
    "    \n",
    "    def __le__(self, other):\n",
    "        return self.value <= other.value\n",
    "    \n",
    "    def __ne__(self, other):\n",
    "        return self.value != other.value\n",
    "    \n",
    "    @property\n",
    "    def isLeft(self):\n",
    "        return True if self.side==LEFT else False\n",
    "    \n",
    "    @property\n",
    "    def isRight(self):\n",
    "        return True if self.side==RIGHT else False\n",
    "    \n",
    "    @property\n",
    "    def isNone(self):\n",
    "        return True if self.value is None else False\n",
    "    \n",
    "    @property\n",
    "    def isLeaf(self):\n",
    "        return (self.leftChild is None) and (self.rightChild is None)\n",
    "    \n",
    "    @property\n",
    "    def isRoot(self):\n",
    "        return True if self.parent is None else False\n",
    "    \n",
    "    def __repr__(self) -> str:\n",
    "        return \"{value}\".format(value = self.value)"
   ]
  },
  {
   "cell_type": "code",
   "execution_count": 18,
   "metadata": {},
   "outputs": [],
   "source": [
    "class Node(NodeBase):\n",
    "    \n",
    "    def __init__(self,\n",
    "                 value,\n",
    "                 side       = None,\n",
    "                 color      = RED,\n",
    "                 leftChild  = None,\n",
    "                 rightChild = None,\n",
    "                 parent     = None):        \n",
    "        super().__init__(value, side = side, leftChild = leftChild, rightChild = rightChild, parent = parent)\n",
    "        self.color = color\n",
    "   \n",
    "    @property\n",
    "    def isRed(self):\n",
    "        return True if self.color==RED else False\n",
    "    \n",
    "    @property\n",
    "    def isBlack(self):\n",
    "        return not self.isRED\n",
    "    \n",
    "    def __repr__(self) -> str:        \n",
    "        return \"{value}:{color}\".format(value = super().__repr__(), color = self.color[0])\n",
    "    \n",
    "    @property\n",
    "    def grandParent(self):\n",
    "        if not self.parent.isRoot:\n",
    "            return self.parent.parent\n",
    "    \n",
    "    @property\n",
    "    def aunt(self):\n",
    "        if self.parent.isRoot:\n",
    "            raise Exception('node {node} does not have aunt as parent {parent} is root'.format(node = self, parent = self.parent))\n",
    "        return self.grandParent.rightChild if self.parent.isLeft else self.grandParent.leftChild "
   ]
  },
  {
   "cell_type": "code",
   "execution_count": 19,
   "metadata": {},
   "outputs": [],
   "source": [
    "class Tree:\n",
    "\n",
    "    def __init__(self):\n",
    "        self.root = None\n",
    "    \n",
    "    def __repr__(self) -> str:\n",
    "        linestrList, pstrList = ptree(self.root)\n",
    "        lines = []\n",
    "        for linestr, pstr in zip(linestrList, pstrList):\n",
    "            lines.append(linestr)\n",
    "            lines.append(pstr)\n",
    "        return '\\n'.join(lines)"
   ]
  },
  {
   "cell_type": "code",
   "execution_count": 20,
   "metadata": {},
   "outputs": [],
   "source": [
    "class RedBlackTree(Tree):\n",
    "    def __init__(self):\n",
    "        super().__init__()\n",
    "        self.size = 0    \n",
    "\n",
    "    def insert(self, value):\n",
    "        if self.root is None:\n",
    "            self.root = Node(value, side = None, parent = None, color = BLACK)\n",
    "            self.size += 1\n",
    "            return\n",
    "        \n",
    "        node = Node(value = value, color = RED)\n",
    "        self._insert(self.root, node)\n",
    "        self.size += 1        \n",
    "\n",
    "    def _insert(self, parent: Node, node: Node):\n",
    "        if node < parent:\n",
    "            if not parent.leftChild:\n",
    "                node.parent = parent\n",
    "                node.side = LEFT\n",
    "                parent.leftChild = node\n",
    "            else:\n",
    "                self._insert(parent.leftChild, node)\n",
    "        else:\n",
    "            if not parent.rightChild:\n",
    "                node.parent = parent\n",
    "                node.side = RIGHT\n",
    "                parent.rightChild = node\n",
    "            else:\n",
    "                self._insert(parent.rightChild, node)\n",
    "        \n",
    "        self.fix(node)\n",
    "\n",
    "    def fix(self, node:Node):\n",
    "        pass\n",
    "\n",
    "        "
   ]
  },
  {
   "cell_type": "code",
   "execution_count": 21,
   "metadata": {},
   "outputs": [
    {
     "data": {
      "text/plain": [
       "\n",
       "     4:b\n",
       "   /¯¯¯ ¯¯¯\\\n",
       " 2:r     5:r\n",
       "            ¯\\\n",
       "           7:r"
      ]
     },
     "execution_count": 21,
     "metadata": {},
     "output_type": "execute_result"
    }
   ],
   "source": [
    "t = RedBlackTree()\n",
    "t.insert(4)\n",
    "t.insert(5)\n",
    "t.insert(2)\n",
    "t.insert(7)\n",
    "# t.insert(6)\n",
    "# t.insert(1)\n",
    "# t.insert(3)\n",
    "# t.insert(4.5)\n",
    "# t.insert(8)\n",
    "# t.insert(-1)\n",
    "# t.insert(1.1)\n",
    "t"
   ]
  },
  {
   "cell_type": "code",
   "execution_count": null,
   "metadata": {},
   "outputs": [],
   "source": []
  }
 ],
 "metadata": {
  "kernelspec": {
   "display_name": "py3",
   "language": "python",
   "name": "python3"
  },
  "language_info": {
   "codemirror_mode": {
    "name": "ipython",
    "version": 3
   },
   "file_extension": ".py",
   "mimetype": "text/x-python",
   "name": "python",
   "nbconvert_exporter": "python",
   "pygments_lexer": "ipython3",
   "version": "3.8.12"
  }
 },
 "nbformat": 4,
 "nbformat_minor": 2
}
