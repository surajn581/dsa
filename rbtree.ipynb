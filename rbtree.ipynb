{
 "cells": [
  {
   "cell_type": "code",
   "execution_count": 1,
   "metadata": {},
   "outputs": [],
   "source": [
    "from tree_utils import printTree as ptree\n",
    "from tree_classes import Value, RedBlackNode\n",
    "from tree_classes import RED, BLACK, RIGHT, LEFT, NULL"
   ]
  },
  {
   "cell_type": "code",
   "execution_count": 2,
   "metadata": {},
   "outputs": [],
   "source": [
    "# to make the BinaryTree class availabe in this notebook\n",
    "%run bst.ipynb"
   ]
  },
  {
   "cell_type": "code",
   "execution_count": 3,
   "metadata": {},
   "outputs": [],
   "source": [
    "class RedBlackTree(BinaryTree):\n",
    "    def __init__(self):\n",
    "        super().__init__()\n",
    "        self.size = 0    \n",
    "\n",
    "    def insert(self, value):\n",
    "        if self.root is None:\n",
    "            self.root = RedBlackNode(value, side = None, parent = None, color = BLACK)\n",
    "            self.size += 1\n",
    "            return self.root\n",
    "        \n",
    "        node = RedBlackNode(value = value, color = RED)\n",
    "        node = self._insert(self.root, node)\n",
    "        self.size += 1\n",
    "        self._insertFix(node)\n",
    "        return node\n",
    "\n",
    "    def _insert(self, parent: RedBlackNode, node: RedBlackNode):\n",
    "        if node < parent:\n",
    "            if not parent.leftChild:\n",
    "                node.parent = parent\n",
    "                node.side = LEFT\n",
    "                parent.leftChild = node\n",
    "            else:\n",
    "                self._insert(parent.leftChild, node)\n",
    "        else:\n",
    "            if not parent.rightChild:\n",
    "                node.parent = parent\n",
    "                node.side = RIGHT\n",
    "                parent.rightChild = node\n",
    "            else:\n",
    "                self._insert(parent.rightChild, node)\n",
    "        return node\n",
    "    \n",
    "    def _leftRotate(self, node: RedBlackNode):\n",
    "        rightChild = node.rightChild\n",
    "        if not rightChild:\n",
    "            raise Exception('invalid left rotate')\n",
    "        node.rightChild = rightChild.leftChild        \n",
    "        if rightChild.leftChild:\n",
    "            rightChild.leftChild.parent = node\n",
    "            node.rightChild.side = RIGHT\n",
    "        rightChild.parent = node.parent\n",
    "        if node.isRoot:\n",
    "            self.root = rightChild\n",
    "        elif node.isLeft:\n",
    "            node.parent.leftChild = rightChild\n",
    "        else:\n",
    "            node.parent.rightChild = rightChild\n",
    "        rightChild.leftChild = node\n",
    "        rightChild.side = node.side\n",
    "        node.parent = rightChild\n",
    "        node.side = LEFT\n",
    "\n",
    "    def _rightRotate(self, node: RedBlackNode):\n",
    "        leftChild = node.leftChild\n",
    "        if not leftChild:\n",
    "            raise Exception('invalid right rotate')\n",
    "        node.leftChild = leftChild.rightChild        \n",
    "        if leftChild.rightChild:\n",
    "            leftChild.rightChild.parent = node\n",
    "            node.leftChild.side = LEFT\n",
    "        leftChild.parent = node.parent\n",
    "        if node.isRoot:\n",
    "            self.root = leftChild\n",
    "        elif node.isLeft:\n",
    "            node.parent.leftChild = leftChild\n",
    "        else:\n",
    "            node.parent.rightChild = leftChild\n",
    "        leftChild.rightChild = node\n",
    "        leftChild.side = node.side\n",
    "        node.parent = leftChild\n",
    "        node.side = RIGHT\n",
    "\n",
    "    def _insertFix(self, node:RedBlackNode):\n",
    "        if node.isRoot:\n",
    "            node.color = BLACK\n",
    "            return\n",
    "        if node.parent.color == BLACK:\n",
    "            return\n",
    "        if node.aunt and node.aunt.color == RED:\n",
    "            node.parent.color = BLACK\n",
    "            node.aunt.color = BLACK\n",
    "            node.grandParent.color = RED\n",
    "            self._insertFix(node.grandParent)\n",
    "            return\n",
    "        if node.parent.isLeft:\n",
    "            if node.isRight:\n",
    "                self._leftRotate(node.parent)\n",
    "                self._insertFix(node.leftChild)\n",
    "                return\n",
    "            node.parent.color = BLACK\n",
    "            node.grandParent.color = RED\n",
    "            self._rightRotate(node.grandParent)\n",
    "            return\n",
    "        if node.isLeft:\n",
    "            self._rightRotate(node.parent)\n",
    "            self._insertFix(node.rightChild)\n",
    "            return\n",
    "        node.parent.color = BLACK\n",
    "        node.grandParent.color = RED\n",
    "        self._leftRotate(node.grandParent)\n",
    "\n",
    "    def delete(self, key):\n",
    "        if not self.root:\n",
    "            return\n",
    "        deleteNode = self.search(key)\n",
    "        color = deleteNode.color\n",
    "        if not deleteNode:\n",
    "            return\n",
    "        if deleteNode.isLeaf:\n",
    "            self._transplant(deleteNode, None)\n",
    "            return\n",
    "        elif len(deleteNode.children) == 1:\n",
    "            deleteNodeChild = deleteNode.children[0]\n",
    "            self._transplant(deleteNode, deleteNodeChild)\n",
    "            if color == BLACK:\n",
    "                self._delete_fix(deleteNodeChild)\n",
    "            return\n",
    "        leftMostNode = self._inOrderTraversal(deleteNode.rightChild)[0]\n",
    "        color = leftMostNode.color\n",
    "        leftMostNodeRightChild = leftMostNode.rightChild\n",
    "        if leftMostNode.parent != deleteNode:\n",
    "            self._transplant(leftMostNode, leftMostNode.rightChild)\n",
    "            leftMostNode.rightChild = deleteNode.rightChild\n",
    "            leftMostNode.rightChild.parent = leftMostNode\n",
    "        self._transplant(deleteNode, leftMostNode)\n",
    "        leftMostNode.leftChild = deleteNode.leftChild\n",
    "        leftMostNode.leftChild.parent = leftMostNode\n",
    "        leftMostNode.parent = deleteNode.parent\n",
    "        leftMostNode.side = deleteNode.side\n",
    "        if color == BLACK and leftMostNodeRightChild:\n",
    "            self._delete_fix(leftMostNodeRightChild)\n",
    "\n",
    "    def _delete_fix(self, node:RedBlackNode):\n",
    "        if node.isRoot or node.color!=BLACK:\n",
    "            node.color = BLACK\n",
    "            return\n",
    "        if node.sibling and node.sibling.isRed:\n",
    "            node.sibling.color = BLACK\n",
    "            node.parent.color = RED\n",
    "            rotation = getattr(self, '_leftRotate' if node.isLeft else '_rightRotate')\n",
    "            rotation(node.parent)\n",
    "        leftChildisBlack = node.sibling.leftChild is None or node.sibling.leftChild.isBlack\n",
    "        rightChildisBlack = node.sibling.rightChild is None or node.sibling.rightChild.isBlack\n",
    "        if leftChildisBlack and rightChildisBlack:\n",
    "            if node.sibling:\n",
    "                node.sibling.color = RED\n",
    "            self._delete_fix(node.parent)\n",
    "            return\n",
    "        childToCheck = getattr( node.sibling, 'rightChild' if node.isLeft else 'leftChild' )\n",
    "        if (childToCheck is None) or (childToCheck.isBlack):\n",
    "            childToColor = getattr( node.sibling, 'leftChild' if node.isLeft else 'rightChild' )\n",
    "            if childToColor:\n",
    "                childToColor.color = BLACK\n",
    "            if node.sibling:\n",
    "                node.sibling.color = RED\n",
    "                rotation = getattr(self, '_rightRotate' if node.isLeft else '_leftRotate')\n",
    "                rotation(node.sibling)\n",
    "        if node.sibling:\n",
    "            node.sibling.color = node.parent.color\n",
    "            childToColor = getattr( node.sibling, 'rightChild' if node.isLeft else 'leftChild' )\n",
    "        node.parent.color = BLACK        \n",
    "        if childToColor:\n",
    "            childToColor.color = BLACK\n",
    "        rotation = getattr(self, '_leftRotate' if node.isLeft else '_rightRotate')\n",
    "        rotation(node.parent)\n",
    "        self._delete_fix(self.root)\n",
    "        return\n"
   ]
  },
  {
   "cell_type": "code",
   "execution_count": 10,
   "metadata": {},
   "outputs": [
    {
     "data": {
      "text/plain": [
       "\n",
       "                        [4:16]:b\n",
       "               /¯¯¯¯¯¯¯¯¯¯¯¯       ¯¯¯¯¯¯¯¯¯¯¯¯\\\n",
       "         [2:4]:b                        [6:36]:b\n",
       "       /¯¯¯¯¯¯   ¯¯¯¯¯¯\\               /¯¯¯¯¯¯   ¯¯¯¯¯¯\\\n",
       " [1:1]:b         [3:9]:b        [5:25]:b        [8:64]:r\n",
       "                                                   /¯¯¯ ¯¯¯\\\n",
       "                                            [7:49]:b[9:81]:b\n",
       "                                                            ¯\\\n",
       "                                                    [10:100]:r"
      ]
     },
     "execution_count": 10,
     "metadata": {},
     "output_type": "execute_result"
    }
   ],
   "source": [
    "t = RedBlackTree()\n",
    "\n",
    "for i in range(1, 10+1):\n",
    "    t.insert(Value(i, i**2))\n",
    "\n",
    "# values = [4.5,8,6,5,7,2,3,1,4,11,9, 20, 21, 23, 24]\n",
    "# # values = [2,1,3]\n",
    "# values = [Value(v,v**2) for v in values]\n",
    "\n",
    "# for value in values:\n",
    "#     t.insert(value)\n",
    "\n",
    "# t.insert(4)\n",
    "# t.insert(5)\n",
    "# t.insert(2)\n",
    "# t.insert(3)\n",
    "# t.insert(1)\n",
    "# t.insert(4.5)\n",
    "# t.insert(6)\n",
    "# t.insert(7)\n",
    "# t.insert(8)\n",
    "# t.insert(11)\n",
    "# t.insert(9)\n",
    "t"
   ]
  },
  {
   "cell_type": "code",
   "execution_count": 11,
   "metadata": {},
   "outputs": [
    {
     "data": {
      "text/plain": [
       "[[1:1]:b,\n",
       " [2:4]:b,\n",
       " [3:9]:b,\n",
       " [4:16]:b,\n",
       " [5:25]:b,\n",
       " [6:36]:b,\n",
       " [7:49]:b,\n",
       " [8:64]:r,\n",
       " [9:81]:b,\n",
       " [10:100]:r]"
      ]
     },
     "execution_count": 11,
     "metadata": {},
     "output_type": "execute_result"
    }
   ],
   "source": [
    "t.inOrderTraversal()"
   ]
  },
  {
   "cell_type": "code",
   "execution_count": 12,
   "metadata": {},
   "outputs": [],
   "source": [
    "# some tests, these are handy to quickly verify if everything is working. I will eventually move them to a test file"
   ]
  },
  {
   "cell_type": "code",
   "execution_count": 13,
   "metadata": {},
   "outputs": [],
   "source": [
    "def test(t):\n",
    "    #checks to validate if all pointers are set correctly after rotation.\n",
    "    parentCheck = lambda node: all([n.parent == node for n in node.children])\n",
    "    sideCheck = lambda node: all( [ node.leftChild.side == LEFT if node.leftChild else True, node.rightChild.side == RIGHT if node.rightChild else True ] )\n",
    "    rootCheck = lambda tree: ( tree.root.parent is None ) and ( tree.root.side is None )\n",
    "\n",
    "    #check if parent and child both have red colors\n",
    "    consecutiveRedCheck = lambda node: all( [ node.color != child.color for child in node.children if node.color == RED ] )\n",
    "\n",
    "    #a BFS traversal while performing all the checks\n",
    "    queue = [t.root]\n",
    "    visited = []\n",
    "    assert rootCheck(t), \"root: {} isn't valid\".format(t.root)\n",
    "    while queue:\n",
    "        node = queue.pop(0)\n",
    "        if not parentCheck(node):\n",
    "            raise Exception('children {children} of node: {node} do not point to it'.format(children = node.children, node = node))\n",
    "        if not sideCheck(node):\n",
    "            raise Exception('children {children} of node: {node} do not have the correct side attribute'.format(children = node.children, node = node))\n",
    "        if not consecutiveRedCheck(node):\n",
    "            raise Exception('node {node} and children {children} have red color'.format(node = node, children = node.children))\n",
    "        queue.extend( node.children )\n",
    "        visited.append(node)\n",
    "    return True"
   ]
  },
  {
   "cell_type": "code",
   "execution_count": 14,
   "metadata": {},
   "outputs": [
    {
     "data": {
      "text/plain": [
       "True"
      ]
     },
     "execution_count": 14,
     "metadata": {},
     "output_type": "execute_result"
    }
   ],
   "source": [
    "test(t)"
   ]
  },
  {
   "cell_type": "code",
   "execution_count": 15,
   "metadata": {},
   "outputs": [
    {
     "name": "stdout",
     "output_type": "stream",
     "text": [
      "isEmpty:  True\n"
     ]
    }
   ],
   "source": [
    "for node in t.inOrderTraversal():\n",
    "    t.delete(node.key)\n",
    "    if t.isEmpty:\n",
    "        break\n",
    "    test(t)\n",
    "print('isEmpty: ', t.isEmpty)"
   ]
  },
  {
   "cell_type": "code",
   "execution_count": null,
   "metadata": {},
   "outputs": [],
   "source": []
  }
 ],
 "metadata": {
  "kernelspec": {
   "display_name": "py3",
   "language": "python",
   "name": "python3"
  },
  "language_info": {
   "codemirror_mode": {
    "name": "ipython",
    "version": 3
   },
   "file_extension": ".py",
   "mimetype": "text/x-python",
   "name": "python",
   "nbconvert_exporter": "python",
   "pygments_lexer": "ipython3",
   "version": "3.8.12"
  }
 },
 "nbformat": 4,
 "nbformat_minor": 2
}
